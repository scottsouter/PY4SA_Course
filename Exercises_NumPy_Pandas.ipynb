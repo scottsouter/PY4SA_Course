{
 "cells": [
  {
   "cell_type": "markdown",
   "id": "22251e58-78c4-44bf-b39e-a3e7619120ee",
   "metadata": {},
   "source": [
    "# Python for Spatial Analysis\n",
    "## Second part of the module of GG3209 Spatial Analysis with GIS.\n",
    "### Notebook to practice NumPy and Pandas - Exercises\n",
    "\n",
    "---\n",
    "Dr Fernando Benitez -  University of St Andrews - School of Geography and Sustainable Development - First Iteration 2023 v.1.0 "
   ]
  },
  {
   "cell_type": "markdown",
   "id": "eaf0b951",
   "metadata": {},
   "source": [
    "# Practicing NumPy"
   ]
  },
  {
   "cell_type": "markdown",
   "id": "36aaf97a",
   "metadata": {},
   "source": [
    "## 2.0 \n",
    "Import numpy under the alias `np`."
   ]
  },
  {
   "cell_type": "code",
   "execution_count": 1,
   "id": "51aa53cd",
   "metadata": {},
   "outputs": [],
   "source": [
    "import numpy as np"
   ]
  },
  {
   "cell_type": "markdown",
   "id": "10df0fb9",
   "metadata": {},
   "source": [
    "## 2.1 \n",
    "\n",
    "Create the following arrays:\n",
    "\n",
    "* Create an array of 10 ones.\n",
    "\n",
    "* Create an array of the integers 1 to 20.\n",
    "\n",
    "* Create a 5 x 5 matrix of ones with a dtype int."
   ]
  },
  {
   "cell_type": "code",
   "execution_count": 18,
   "id": "5a1b83d1",
   "metadata": {},
   "outputs": [
    {
     "name": "stdout",
     "output_type": "stream",
     "text": [
      "[1. 1. 1. 1. 1. 1. 1. 1. 1. 1.]\n",
      "[ 1  2  3  4  5  6  7  8  9 10 11 12 13 14 15 16 17 18 19 20]\n",
      "[[1. 1. 1. 1. 1.]\n",
      " [1. 1. 1. 1. 1.]\n",
      " [1. 1. 1. 1. 1.]\n",
      " [1. 1. 1. 1. 1.]\n",
      " [1. 1. 1. 1. 1.]]\n"
     ]
    }
   ],
   "source": [
    "arr1 = np.ones((10))\n",
    "print(arr1)\n",
    "\n",
    "arr2 = np.arange(1, 21, 1, dtype=\"int\")\n",
    "print(arr2)\n",
    "\n",
    "arr3 = np.ones((5, 5))\n",
    "print(arr3)"
   ]
  },
  {
   "cell_type": "markdown",
   "id": "f4d5f95c",
   "metadata": {},
   "source": [
    "## 2.2 \n",
    "Use numpy to:\n",
    "1. Create an 3D matrix of 3 x 3 x 3 full of random numbers drawn from a standard normal distribution (hint: `np.random.randn()`)\n",
    "2. Reshape the above array into shape (27,)"
   ]
  },
  {
   "cell_type": "code",
   "execution_count": 27,
   "id": "ac3df66e",
   "metadata": {},
   "outputs": [
    {
     "name": "stdout",
     "output_type": "stream",
     "text": [
      "[[[ 0.09851582  0.73947911  1.39254322]\n",
      "  [ 0.375521   -0.28024223 -1.95736764]\n",
      "  [ 3.42820834 -0.86282437 -0.95120736]]\n",
      "\n",
      " [[ 0.23860242 -1.5957904   0.16984437]\n",
      "  [-0.36858054 -0.78683749  0.07559269]\n",
      "  [-0.11135661  0.12442449 -0.98792322]]\n",
      "\n",
      " [[ 0.82071352  1.59528567  0.94936463]\n",
      "  [ 1.05367572 -1.20535948 -1.59646781]\n",
      "  [ 0.46558752  0.9144261   0.30474232]]]\n"
     ]
    }
   ],
   "source": [
    "arr4 = np.random.randn(3, 3, 3)\n",
    "print(arr4)\n",
    "\n",
    "arr4b = arr4.reshape(27)"
   ]
  },
  {
   "cell_type": "markdown",
   "id": "5bbbbc97",
   "metadata": {},
   "source": [
    "# 2.3 \n",
    "\n",
    "Create an array of 20 linearly spaced numbers between 1 and 10."
   ]
  },
  {
   "cell_type": "code",
   "execution_count": 47,
   "id": "3304c495",
   "metadata": {},
   "outputs": [
    {
     "name": "stdout",
     "output_type": "stream",
     "text": [
      "[1 1 1 1 1 1 1 1 1 1 1 1 1 1 1 1 1 1]\n"
     ]
    }
   ],
   "source": [
    "arr5 = np.arange(1, 10, 0.5, dtype=\"int\")\n",
    "print(arr5)"
   ]
  },
  {
   "cell_type": "markdown",
   "id": "fee4622b",
   "metadata": {},
   "source": [
    "## 2.4\n",
    "\n",
    "Run the following code to create an array of shape 4 x 4 and then use indexing to produce the outputs shown below."
   ]
  },
  {
   "cell_type": "code",
   "execution_count": 82,
   "id": "ce54aa24",
   "metadata": {},
   "outputs": [
    {
     "name": "stdout",
     "output_type": "stream",
     "text": [
      "[[ 1  2  3  4  5]\n",
      " [ 6  7  8  9 10]\n",
      " [11 12 13 14 15]\n",
      " [16 17 18 19 20]\n",
      " [21 22 23 24 25]]\n"
     ]
    }
   ],
   "source": [
    "import numpy as np\n",
    "a = np.arange(1, 26).reshape(5, -1)\n",
    "print(a)"
   ]
  },
  {
   "cell_type": "code",
   "execution_count": null,
   "id": "32a6d848-7fc8-42fc-8b6a-0dcc67a6abda",
   "metadata": {},
   "outputs": [],
   "source": [
    "20"
   ]
  },
  {
   "cell_type": "code",
   "execution_count": 80,
   "id": "e752079a",
   "metadata": {},
   "outputs": [
    {
     "name": "stdout",
     "output_type": "stream",
     "text": [
      "[[ 9 10]\n",
      " [14 15]\n",
      " [19 20]\n",
      " [24 25]]\n"
     ]
    }
   ],
   "source": [
    "print(a[1:5,3:5])"
   ]
  },
  {
   "cell_type": "markdown",
   "id": "24c2d6c3",
   "metadata": {},
   "source": [
    "```python\n",
    "array([[ 9, 10],\n",
    "       [14, 15],\n",
    "       [19, 20],\n",
    "       [24, 25]])\n",
    "```"
   ]
  },
  {
   "cell_type": "code",
   "execution_count": 84,
   "id": "d86f1c2f",
   "metadata": {},
   "outputs": [
    {
     "name": "stdout",
     "output_type": "stream",
     "text": [
      "[ 6  7  8  9 10]\n"
     ]
    }
   ],
   "source": [
    "print(a[1])"
   ]
  },
  {
   "cell_type": "markdown",
   "id": "984bb786",
   "metadata": {},
   "source": [
    "```python\n",
    "array([ 6,  7,  8,  9, 10])\n",
    "```"
   ]
  },
  {
   "cell_type": "code",
   "execution_count": 86,
   "id": "943ec85c",
   "metadata": {},
   "outputs": [
    {
     "name": "stdout",
     "output_type": "stream",
     "text": [
      "20\n"
     ]
    }
   ],
   "source": [
    "print(a[3, 4])"
   ]
  },
  {
   "cell_type": "markdown",
   "id": "a8e576e0",
   "metadata": {
    "tags": []
   },
   "source": [
    "## 2.5 \n",
    "\n",
    "Calculate the sum of all the numbers in `a`."
   ]
  },
  {
   "cell_type": "code",
   "execution_count": 81,
   "id": "bd34b207",
   "metadata": {},
   "outputs": [
    {
     "name": "stdout",
     "output_type": "stream",
     "text": [
      "325\n"
     ]
    }
   ],
   "source": [
    "sum_a = np.sum(a)\n",
    "print(sum_a)"
   ]
  },
  {
   "cell_type": "markdown",
   "id": "50c3950b",
   "metadata": {},
   "source": [
    "## 2.6 \n",
    "\n",
    "Calculate the sum of each row in `a`."
   ]
  },
  {
   "cell_type": "code",
   "execution_count": 92,
   "id": "de620d7d",
   "metadata": {},
   "outputs": [
    {
     "name": "stdout",
     "output_type": "stream",
     "text": [
      "15\n",
      "40\n",
      "65\n",
      "15\n",
      "65\n"
     ]
    }
   ],
   "source": [
    "sum_row0 = np.sum(a[0])\n",
    "print(sum_row0)\n",
    "\n",
    "sum_row1 = np.sum(a[1])\n",
    "print(sum_row1)\n",
    "\n",
    "sum_row2 = np.sum(a[2])\n",
    "print(sum_row2)\n",
    "\n",
    "sum_row2 = np.sum(a[2])\n",
    "print(sum_row0)\n",
    "\n",
    "sum_row2 = np.sum(a[2])\n",
    "print(sum_row2)"
   ]
  },
  {
   "cell_type": "markdown",
   "id": "ea9b2c11",
   "metadata": {},
   "source": [
    "## 2.7 \n",
    "\n",
    "Extract all values of `a` greater than the mean of `a` (hint: use a boolean mask)."
   ]
  },
  {
   "cell_type": "code",
   "execution_count": 93,
   "id": "aef9b210",
   "metadata": {},
   "outputs": [
    {
     "name": "stdout",
     "output_type": "stream",
     "text": [
      "13.0\n",
      "[[False False False False False]\n",
      " [False False False False False]\n",
      " [False False False  True  True]\n",
      " [ True  True  True  True  True]\n",
      " [ True  True  True  True  True]]\n"
     ]
    }
   ],
   "source": [
    "print(325/25)\n",
    "\n",
    "a_bool = a > 13\n",
    "print (a_bool)"
   ]
  },
  {
   "cell_type": "markdown",
   "id": "9c31a0e1",
   "metadata": {},
   "source": [
    "# Practicing Pandas"
   ]
  },
  {
   "cell_type": "markdown",
   "id": "61c04b0c",
   "metadata": {},
   "source": [
    "## 2.8\n",
    "\n",
    "In this set of practice exercises we'll be investigating the carbon footprint of different foods. \n",
    "\n",
    "We'll be leveraging a dataset compiled by [Kasia Kulma](https://r-tastic.co.uk/post/from-messy-to-tidy/) and contributed to [R's Tidy Tuesday project](https://github.com/rfordatascience/tidytuesday).\n",
    "\n",
    "Start by importing pandas with the alias `pd`."
   ]
  },
  {
   "cell_type": "code",
   "execution_count": 55,
   "id": "8b9ede0d",
   "metadata": {},
   "outputs": [],
   "source": [
    "import numpy as np\n",
    "import pandas as pd"
   ]
  },
  {
   "cell_type": "markdown",
   "id": "3d39a2d7",
   "metadata": {},
   "source": [
    "## 2.9 \n",
    "\n",
    "The dataset we'll be working with has the following columns:\n",
    "\n",
    "|column      |description |\n",
    "|:-------------|:-----------|\n",
    "|country       | Country Name |\n",
    "|food_category | Food Category |\n",
    "|consumption   | Consumption (kg/person/year) |\n",
    "|co2_emmission | Co2 Emission (Kg CO2/person/year) |\n",
    "\n",
    "\n",
    "Import the dataset as a dataframe named `df` from this url: <https://raw.githubusercontent.com/rfordatascience/tidytuesday/master/data/2020/2020-02-18/food_consumption.csv>"
   ]
  },
  {
   "cell_type": "code",
   "execution_count": 68,
   "id": "b39d8ebb",
   "metadata": {},
   "outputs": [
    {
     "name": "stdout",
     "output_type": "stream",
     "text": [
      "     country food_category  consumption  co2_emmission\n",
      "0  Argentina          Pork        10.51          37.20\n",
      "1  Argentina       Poultry        38.66          41.53\n",
      "2  Argentina          Beef        55.48        1712.00\n",
      "3  Argentina   Lamb & Goat         1.56          54.63\n",
      "4  Argentina          Fish         4.36           6.96\n"
     ]
    }
   ],
   "source": [
    "url = \"https://raw.githubusercontent.com/rfordatascience/tidytuesday/master/data/2020/2020-02-18/food_consumption.csv\"\n",
    "df = pd.read_csv(url, sep=\",\", header=0)\n",
    "\n",
    "print(df.head(5))"
   ]
  },
  {
   "cell_type": "markdown",
   "id": "f903c8a1",
   "metadata": {},
   "source": [
    "## 2.10 \n",
    "\n",
    "How many rows and columns are there in the dataframe?"
   ]
  },
  {
   "cell_type": "code",
   "execution_count": 71,
   "id": "39cd4f89",
   "metadata": {},
   "outputs": [
    {
     "name": "stdout",
     "output_type": "stream",
     "text": [
      "The data frame has this many rows\n",
      "1430\n"
     ]
    }
   ],
   "source": [
    "print(\"The data frame has this many rows\")\n",
    "print(len(df))"
   ]
  },
  {
   "cell_type": "markdown",
   "id": "8f0b87b0",
   "metadata": {},
   "source": [
    "## 2.11\n",
    "\n",
    "What is the mean `co2_emission` of the whole dataset?"
   ]
  },
  {
   "cell_type": "code",
   "execution_count": 78,
   "id": "07b2251e-ee37-4fd9-859d-6a1c84a8128b",
   "metadata": {},
   "outputs": [
    {
     "name": "stdout",
     "output_type": "stream",
     "text": [
      "Index(['country', 'food_category', 'consumption', 'co2_emmission'], dtype='object')\n"
     ]
    }
   ],
   "source": [
    "print(df.columns)"
   ]
  },
  {
   "cell_type": "code",
   "execution_count": 74,
   "id": "8a8b3edc",
   "metadata": {},
   "outputs": [
    {
     "name": "stdout",
     "output_type": "stream",
     "text": [
      "74.383993006993\n"
     ]
    }
   ],
   "source": [
    "co2_mean = df[\"co2_emmission\"].mean()\n",
    "print(co2_mean)"
   ]
  },
  {
   "cell_type": "markdown",
   "id": "1acb3cc5",
   "metadata": {},
   "source": [
    "## 2.12\n",
    "\n",
    "What is the maximum `co2_emmission` in the dataset and which food type and country does it belong to?"
   ]
  },
  {
   "cell_type": "code",
   "execution_count": 77,
   "id": "04f58ddd",
   "metadata": {},
   "outputs": [
    {
     "name": "stdout",
     "output_type": "stream",
     "text": [
      "1712.0\n"
     ]
    },
    {
     "data": {
      "text/plain": [
       "food_category\n",
       "Beef                        1712.00\n",
       "Eggs                          17.59\n",
       "Fish                         286.94\n",
       "Lamb & Goat                  739.62\n",
       "Milk - inc. cheese           613.57\n",
       "Nuts inc. Peanut Butter       40.76\n",
       "Pork                         237.54\n",
       "Poultry                       67.14\n",
       "Rice                         219.76\n",
       "Soybeans                       7.63\n",
       "Wheat and Wheat Products      37.66\n",
       "Name: co2_emmission, dtype: float64"
      ]
     },
     "execution_count": 77,
     "metadata": {},
     "output_type": "execute_result"
    }
   ],
   "source": [
    "co2_max = df[\"co2_emmission\"].max()\n",
    "print(co2_max)\n",
    "\n",
    "food_stats = pd.DataFrame()\n",
    "food_stats = df.groupby(\"country\")[\"co2_emmission\"].max()\n",
    "food_stats = df.groupby(\"food_category\")[\"co2_emmission\"].max()\n",
    "food_stats"
   ]
  },
  {
   "cell_type": "markdown",
   "id": "68ba75e4",
   "metadata": {},
   "source": [
    "## 2.13\n",
    "\n",
    "How many countries produce more than 1000 Kg CO2/person/year for at least one food type?"
   ]
  },
  {
   "cell_type": "code",
   "execution_count": null,
   "id": "0dac7b68",
   "metadata": {},
   "outputs": [],
   "source": []
  },
  {
   "cell_type": "markdown",
   "id": "507fe1cd",
   "metadata": {},
   "source": [
    "## 2.14\n",
    "\n",
    "Which country consumes the least amount of beef per person per year?\n"
   ]
  },
  {
   "cell_type": "code",
   "execution_count": null,
   "id": "e4bf7f60",
   "metadata": {},
   "outputs": [],
   "source": [
    "# code comes here"
   ]
  },
  {
   "cell_type": "markdown",
   "id": "e40cbc79",
   "metadata": {},
   "source": [
    "## 2.15\n",
    "\n",
    "What is the total emissions of all the meat products (Pork, Poultry, Fish, Lamb & Goat, Beef) in the dataset combined?"
   ]
  },
  {
   "cell_type": "code",
   "execution_count": null,
   "id": "932f7976",
   "metadata": {},
   "outputs": [],
   "source": [
    "# code comes here"
   ]
  },
  {
   "cell_type": "markdown",
   "id": "2e01f760",
   "metadata": {},
   "source": [
    "# 2.16 \n",
    "\n",
    "What is the total emissions of all other (non-meat) products in the dataset combined?"
   ]
  },
  {
   "cell_type": "code",
   "execution_count": null,
   "id": "6d0c8ac4",
   "metadata": {},
   "outputs": [],
   "source": [
    "# code comes here"
   ]
  },
  {
   "cell_type": "markdown",
   "id": "24d092f5",
   "metadata": {},
   "source": [
    "## Well done!\n",
    "\n",
    "That's all from this week, if you have any questions, do not forget to ask the TAs for assistance."
   ]
  }
 ],
 "metadata": {
  "kernelspec": {
   "display_name": "Python 3 (ipykernel)",
   "language": "python",
   "name": "python3"
  },
  "language_info": {
   "codemirror_mode": {
    "name": "ipython",
    "version": 3
   },
   "file_extension": ".py",
   "mimetype": "text/x-python",
   "name": "python",
   "nbconvert_exporter": "python",
   "pygments_lexer": "ipython3",
   "version": "3.10.9"
  },
  "vscode": {
   "interpreter": {
    "hash": "a62a218f45948969006c944db2ca1c519af623da5e08f864ae6aafcacb945df1"
   }
  }
 },
 "nbformat": 4,
 "nbformat_minor": 5
}
